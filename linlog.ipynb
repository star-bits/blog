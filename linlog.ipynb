{
 "cells": [
  {
   "cell_type": "markdown",
   "id": "cf9f6aff",
   "metadata": {},
   "source": [
    "# Linear Regression and Logistic Regression with PyTorch\n",
    "\n",
    "- 선형 회귀: 회귀 문제\n",
    "    - Uses MSE as loss function\n",
    "    - Simple Linear Regression: \n",
    "    $y = wx + b$\n",
    "    - Multivariable Linear Regression: \n",
    "    $y = w_1 x_1 + w_2 x_2 + ... + w_n x_n + b$\n",
    "- 로지스틱 회귀: 분류 문제\n",
    "    - Uses Sigmoid+BCE or Softmax+CE as loss function"
   ]
  },
  {
   "cell_type": "code",
   "execution_count": 1,
   "id": "b78283a6",
   "metadata": {},
   "outputs": [],
   "source": [
    "import torch\n",
    "import torch.nn as nn\n",
    "import torch.nn.functional as F\n",
    "import torch.optim as optim"
   ]
  },
  {
   "cell_type": "markdown",
   "id": "a45087b4",
   "metadata": {},
   "source": [
    "## Autograd"
   ]
  },
  {
   "cell_type": "code",
   "execution_count": 2,
   "id": "eb104898",
   "metadata": {},
   "outputs": [
    {
     "data": {
      "text/plain": [
       "tensor(8.)"
      ]
     },
     "execution_count": 2,
     "metadata": {},
     "output_type": "execute_result"
    }
   ],
   "source": [
    "w = torch.tensor(2., requires_grad=True)\n",
    "\n",
    "y = w**2\n",
    "z = 2*y + 5\n",
    "\n",
    "z.backward()\n",
    "w.grad"
   ]
  },
  {
   "cell_type": "markdown",
   "id": "b1197b17",
   "metadata": {},
   "source": [
    "## Linear Regression"
   ]
  },
  {
   "cell_type": "markdown",
   "id": "9152f1e2",
   "metadata": {},
   "source": [
    "### single-variable, torch"
   ]
  },
  {
   "cell_type": "code",
   "execution_count": 3,
   "id": "a797d544",
   "metadata": {
    "scrolled": false
   },
   "outputs": [
    {
     "name": "stdout",
     "output_type": "stream",
     "text": [
      "Epoch:    0 W: 6.847 b: 1.084 Cost: 3702.000000\n",
      "Epoch:  100 W: 10.592 b: 1.380 Cost: 1.129899\n",
      "Epoch:  200 W: 10.623 b: 1.186 Cost: 1.090615\n",
      "Epoch:  300 W: 10.643 b: 1.058 Cost: 1.073371\n",
      "Epoch:  400 W: 10.657 b: 0.973 Cost: 1.065806\n",
      "Epoch:  500 W: 10.666 b: 0.916 Cost: 1.062474\n",
      "Epoch:  600 W: 10.672 b: 0.879 Cost: 1.061022\n",
      "Epoch:  700 W: 10.676 b: 0.854 Cost: 1.060377\n",
      "Epoch:  800 W: 10.678 b: 0.838 Cost: 1.060095\n",
      "Epoch:  900 W: 10.680 b: 0.827 Cost: 1.059976\n",
      "Epoch: 1000 W: 10.681 b: 0.820 Cost: 1.059917\n"
     ]
    }
   ],
   "source": [
    "x = [1, 2, 3, 4, 5, 6, 7, 8, 9]\n",
    "y = [11, 22, 33, 44, 53, 66, 77, 87, 95]\n",
    "x = torch.FloatTensor(x)\n",
    "y = torch.FloatTensor(y)\n",
    "\n",
    "W = torch.zeros(1, requires_grad=True)\n",
    "b = torch.zeros(1, requires_grad=True)\n",
    "\n",
    "optimizer = optim.SGD([W, b], lr=0.01)\n",
    "\n",
    "epochs = 1000\n",
    "for epoch in range(epochs+1):\n",
    "    \n",
    "    pred = x * W + b\n",
    "    \n",
    "    # MSE loss\n",
    "    # mean of it\n",
    "    cost = torch.mean((pred - y) ** 2)\n",
    "    \n",
    "    optimizer.zero_grad()\n",
    "    cost.backward()\n",
    "    optimizer.step()\n",
    "    \n",
    "    if epoch%100==0:\n",
    "        print(f'Epoch: {epoch:4d} W: {W.item():.3f} b: {b.item():.3f} Cost: {cost.item():.6f}')"
   ]
  },
  {
   "cell_type": "code",
   "execution_count": 4,
   "id": "d0008006",
   "metadata": {},
   "outputs": [
    {
     "name": "stdout",
     "output_type": "stream",
     "text": [
      "[11.500781 22.181868 32.862953 43.54404  54.22513  64.90621  75.5873\n",
      " 86.26839  96.94947 ]\n"
     ]
    },
    {
     "data": {
      "text/plain": [
       "[<matplotlib.lines.Line2D at 0x11edb77c0>,\n",
       " <matplotlib.lines.Line2D at 0x11edb77f0>]"
      ]
     },
     "execution_count": 4,
     "metadata": {},
     "output_type": "execute_result"
    },
    {
     "data": {
      "image/png": "[encoded data removed]",
      "text/plain": [
       "<Figure size 432x288 with 1 Axes>"
      ]
     },
     "metadata": {
      "needs_background": "light"
     },
     "output_type": "display_data"
    }
   ],
   "source": [
    "import matplotlib.pyplot as plt\n",
    "\n",
    "pred = x * W + b\n",
    "pred = pred.detach().numpy()\n",
    "print(pred)\n",
    "\n",
    "x = x.detach().numpy()\n",
    "y = y.detach().numpy()\n",
    "\n",
    "plt.plot(x, pred, 'b', x, y, 'k.')"
   ]
  },
  {
   "cell_type": "markdown",
   "id": "51ce8c58",
   "metadata": {},
   "source": [
    "### multi-variable, torch"
   ]
  },
  {
   "cell_type": "code",
   "execution_count": 5,
   "id": "e7912861",
   "metadata": {},
   "outputs": [
    {
     "name": "stdout",
     "output_type": "stream",
     "text": [
      "Epoch:    0 Cost: 29661.800781\n",
      "Epoch:    2 Cost: 3069.590088\n",
      "Epoch:    4 Cost: 322.482086\n",
      "Epoch:    6 Cost: 38.687496\n",
      "Epoch:    8 Cost: 9.365656\n",
      "Epoch:   10 Cost: 6.331847\n",
      "Epoch:   12 Cost: 6.013817\n",
      "Epoch:   14 Cost: 5.976325\n",
      "Epoch:   16 Cost: 5.967835\n",
      "Epoch:   18 Cost: 5.962291\n",
      "Epoch:   20 Cost: 5.957089\n"
     ]
    }
   ],
   "source": [
    "x = [[73, 80, 75], \n",
    "     [93, 88, 93], \n",
    "     [89, 91, 80], \n",
    "     [96, 98, 100], \n",
    "     [73, 66, 70]]\n",
    "y = [[152], [185], [180], [196], [142]]\n",
    "x = torch.FloatTensor(x) \n",
    "y = torch.FloatTensor(y)\n",
    "\n",
    "W = torch.zeros((3, 1), requires_grad=True)\n",
    "b = torch.zeros(1, requires_grad=True)\n",
    "\n",
    "optimizer = optim.SGD([W, b], lr=1e-5)\n",
    "\n",
    "epochs = 20\n",
    "for epoch in range(epochs+1):\n",
    "    \n",
    "    pred = x.matmul(W) + b\n",
    "    \n",
    "    cost = torch.mean((pred - y) ** 2)\n",
    "    \n",
    "    optimizer.zero_grad()\n",
    "    cost.backward()\n",
    "    optimizer.step()\n",
    "    \n",
    "    if epoch%2==0:\n",
    "        print(f'Epoch: {epoch:4d} Cost: {cost.item():.6f}')"
   ]
  },
  {
   "cell_type": "markdown",
   "id": "e4593055",
   "metadata": {},
   "source": [
    "### single-variable, nn.Module"
   ]
  },
  {
   "cell_type": "code",
   "execution_count": 6,
   "id": "b0717e01",
   "metadata": {
    "scrolled": true
   },
   "outputs": [
    {
     "name": "stdout",
     "output_type": "stream",
     "text": [
      "[Parameter containing:\n",
      "tensor([[0.1018]], requires_grad=True), Parameter containing:\n",
      "tensor([0.0406], requires_grad=True)]\n"
     ]
    }
   ],
   "source": [
    "x = [[1], [2], [3], [4], [5], [6], [7], [8], [9]]\n",
    "y = [[11], [22], [33], [44], [53], [66], [77], [87], [95]]\n",
    "x = torch.FloatTensor(x)\n",
    "y = torch.FloatTensor(y)\n",
    "\n",
    "model = nn.Linear(1, 1) # (in_features, out_features)\n",
    "# model에는 W와 b가 저장되어 있음\n",
    "\n",
    "print(list(model.parameters()))\n",
    "# 각각 W와 b\n",
    "# 랜덤 초기화"
   ]
  },
  {
   "cell_type": "code",
   "execution_count": 7,
   "id": "344f1ffd",
   "metadata": {
    "scrolled": false
   },
   "outputs": [
    {
     "name": "stdout",
     "output_type": "stream",
     "text": [
      "Epoch:    0 Cost: 3628.264648\n",
      "Epoch:  200 Cost: 1.092319\n",
      "Epoch:  400 Cost: 1.066130\n",
      "Epoch:  600 Cost: 1.061084\n",
      "Epoch:  800 Cost: 1.060109\n",
      "Epoch: 1000 Cost: 1.059920\n",
      "Epoch: 1200 Cost: 1.059882\n",
      "Epoch: 1400 Cost: 1.059876\n",
      "Epoch: 1600 Cost: 1.059874\n",
      "Epoch: 1800 Cost: 1.059878\n",
      "Epoch: 2000 Cost: 1.059879\n"
     ]
    }
   ],
   "source": [
    "# previously,\n",
    "# optimizer = optim.SGD([W, b], lr=0.01)\n",
    "optimizer = optim.SGD(model.parameters(), lr=0.01) \n",
    "\n",
    "epochs = 2000\n",
    "for epoch in range(epochs+1):\n",
    "    \n",
    "    pred = model(x)\n",
    "    \n",
    "    # previously,\n",
    "    # cost = torch.mean((pred - y) ** 2)    \n",
    "    cost = F.mse_loss(pred, y)\n",
    "\n",
    "    optimizer.zero_grad()\n",
    "    cost.backward()\n",
    "    optimizer.step()\n",
    "    \n",
    "    if epoch%200==0:\n",
    "        print(f'Epoch: {epoch:4d} Cost: {cost.item():.6f}')"
   ]
  },
  {
   "cell_type": "code",
   "execution_count": 8,
   "id": "025759a2",
   "metadata": {},
   "outputs": [
    {
     "data": {
      "text/plain": [
       "tensor([[54.2223]], grad_fn=<AddmmBackward0>)"
      ]
     },
     "execution_count": 8,
     "metadata": {},
     "output_type": "execute_result"
    }
   ],
   "source": [
    "x_test = torch.FloatTensor([[5]])\n",
    "output = model(x_test)\n",
    "output"
   ]
  },
  {
   "cell_type": "code",
   "execution_count": 9,
   "id": "743eeb5d",
   "metadata": {},
   "outputs": [
    {
     "data": {
      "text/plain": [
       "[<matplotlib.lines.Line2D at 0x11f106970>,\n",
       " <matplotlib.lines.Line2D at 0x11f1069a0>]"
      ]
     },
     "execution_count": 9,
     "metadata": {},
     "output_type": "execute_result"
    },
    {
     "data": {
      "image/png": "[encoded data removed]",
      "text/plain": [
       "<Figure size 432x288 with 1 Axes>"
      ]
     },
     "metadata": {
      "needs_background": "light"
     },
     "output_type": "display_data"
    }
   ],
   "source": [
    "pred = model(x)\n",
    "pred = pred.detach().numpy()\n",
    "x = x.detach().numpy()\n",
    "y = y.detach().numpy()\n",
    "\n",
    "plt.plot(x, pred, 'b', x, y, 'k.')"
   ]
  },
  {
   "cell_type": "markdown",
   "id": "9ae650e6",
   "metadata": {},
   "source": [
    "### multi-variable, nn.Module"
   ]
  },
  {
   "cell_type": "code",
   "execution_count": 10,
   "id": "a13ba3c9",
   "metadata": {},
   "outputs": [
    {
     "name": "stdout",
     "output_type": "stream",
     "text": [
      "[Parameter containing:\n",
      "tensor([[-0.4907, -0.3836, -0.4396]], requires_grad=True), Parameter containing:\n",
      "tensor([0.2206], requires_grad=True)]\n"
     ]
    }
   ],
   "source": [
    "x = [[73, 80, 75], \n",
    "     [93, 88, 93], \n",
    "     [89, 91, 80], \n",
    "     [96, 98, 100], \n",
    "     [73, 66, 70]]\n",
    "y = [[152], [185], [180], [196], [142]]\n",
    "x = torch.FloatTensor(x) \n",
    "y = torch.FloatTensor(y)\n",
    "\n",
    "model = nn.Linear(3, 1)\n",
    "\n",
    "print(list(model.parameters()))"
   ]
  },
  {
   "cell_type": "code",
   "execution_count": 11,
   "id": "85b4789d",
   "metadata": {},
   "outputs": [
    {
     "name": "stdout",
     "output_type": "stream",
     "text": [
      "Epoch:    0 Cost: 80441.710938\n",
      "Epoch:  200 Cost: 5.822568\n",
      "Epoch:  400 Cost: 5.376752\n",
      "Epoch:  600 Cost: 4.968310\n",
      "Epoch:  800 Cost: 4.593836\n",
      "Epoch: 1000 Cost: 4.250171\n",
      "Epoch: 1200 Cost: 3.934615\n",
      "Epoch: 1400 Cost: 3.644592\n",
      "Epoch: 1600 Cost: 3.377887\n",
      "Epoch: 1800 Cost: 3.132433\n",
      "Epoch: 2000 Cost: 2.906443\n"
     ]
    }
   ],
   "source": [
    "optimizer = optim.SGD(model.parameters(), lr=1e-5) \n",
    "\n",
    "epochs = 2000\n",
    "for epoch in range(epochs+1):\n",
    "    \n",
    "    pred = model(x)\n",
    "    \n",
    "    cost = F.mse_loss(pred, y)\n",
    "    \n",
    "    optimizer.zero_grad()\n",
    "    cost.backward()\n",
    "    optimizer.step()\n",
    "    \n",
    "    if epoch%200==0:\n",
    "        print(f'Epoch: {epoch:4d} Cost: {cost.item():.6f}')"
   ]
  },
  {
   "cell_type": "code",
   "execution_count": 12,
   "id": "60a8c38f",
   "metadata": {},
   "outputs": [
    {
     "name": "stdout",
     "output_type": "stream",
     "text": [
      "tensor([[153.9698]], grad_fn=<AddmmBackward0>)\n"
     ]
    }
   ],
   "source": [
    "x_test = torch.FloatTensor([[73, 80, 75]]) \n",
    "output = model(x_test) \n",
    "print(output)"
   ]
  },
  {
   "cell_type": "markdown",
   "id": "df8246f0",
   "metadata": {},
   "source": [
    "### single-variable, class"
   ]
  },
  {
   "cell_type": "code",
   "execution_count": 13,
   "id": "6071906a",
   "metadata": {},
   "outputs": [
    {
     "name": "stdout",
     "output_type": "stream",
     "text": [
      "Epoch:    0 Cost: 4251.555664\n",
      "Epoch:  200 Cost: 1.138181\n",
      "Epoch:  400 Cost: 1.074971\n",
      "Epoch:  600 Cost: 1.062785\n",
      "Epoch:  800 Cost: 1.060438\n",
      "Epoch: 1000 Cost: 1.059987\n",
      "Epoch: 1200 Cost: 1.059900\n",
      "Epoch: 1400 Cost: 1.059882\n",
      "Epoch: 1600 Cost: 1.059877\n",
      "Epoch: 1800 Cost: 1.059874\n",
      "Epoch: 2000 Cost: 1.059876\n"
     ]
    }
   ],
   "source": [
    "x = [[1], [2], [3], [4], [5], [6], [7], [8], [9]]\n",
    "y = [[11], [22], [33], [44], [53], [66], [77], [87], [95]]\n",
    "x = torch.FloatTensor(x)\n",
    "y = torch.FloatTensor(y)\n",
    "\n",
    "# previously,\n",
    "# model = nn.Linear(1, 1)\n",
    "\n",
    "class LinearRegressionModel(nn.Module):\n",
    "    def __init__(self):\n",
    "        super().__init__()\n",
    "        self.linear = nn.Linear(1, 1)\n",
    "        \n",
    "    def forward(self, x):\n",
    "        return self.linear(x)\n",
    "    \n",
    "model = LinearRegressionModel()\n",
    "\n",
    "optimizer = optim.SGD(model.parameters(), lr=0.01)\n",
    "\n",
    "epochs = 2000\n",
    "for epoch in range(epochs+1):\n",
    "    \n",
    "    pred = model(x)\n",
    "    \n",
    "    cost = F.mse_loss(pred, y)\n",
    "    \n",
    "    optimizer.zero_grad()\n",
    "    cost.backward()\n",
    "    optimizer.step()\n",
    "    \n",
    "    if epoch%200==0:\n",
    "        print(f'Epoch: {epoch:4d} Cost: {cost.item():.6f}')"
   ]
  },
  {
   "cell_type": "markdown",
   "id": "25efe62e",
   "metadata": {},
   "source": [
    "### multi-variable, class"
   ]
  },
  {
   "cell_type": "code",
   "execution_count": 14,
   "id": "73f1e274",
   "metadata": {},
   "outputs": [
    {
     "name": "stdout",
     "output_type": "stream",
     "text": [
      "Epoch:    0 Cost: 20691.876953\n",
      "Epoch:  200 Cost: 8.830656\n",
      "Epoch:  400 Cost: 8.053659\n",
      "Epoch:  600 Cost: 7.353873\n",
      "Epoch:  800 Cost: 6.722710\n",
      "Epoch: 1000 Cost: 6.152703\n",
      "Epoch: 1200 Cost: 5.637233\n",
      "Epoch: 1400 Cost: 5.170412\n",
      "Epoch: 1600 Cost: 4.747117\n",
      "Epoch: 1800 Cost: 4.362820\n",
      "Epoch: 2000 Cost: 4.013472\n"
     ]
    }
   ],
   "source": [
    "x = [[73, 80, 75], \n",
    "     [93, 88, 93], \n",
    "     [89, 91, 80], \n",
    "     [96, 98, 100], \n",
    "     [73, 66, 70]]\n",
    "y = [[152], [185], [180], [196], [142]]\n",
    "x = torch.FloatTensor(x) \n",
    "y = torch.FloatTensor(y)\n",
    "\n",
    "class LinearRegressionModel(nn.Module):\n",
    "    def __init__(self):\n",
    "        super().__init__()\n",
    "        self.linear = nn.Linear(3, 1)\n",
    "        \n",
    "    def forward(self, x):\n",
    "        return self.linear(x)\n",
    "    \n",
    "model = LinearRegressionModel()\n",
    "\n",
    "optimizer = optim.SGD(model.parameters(), lr=1e-5) \n",
    "\n",
    "epochs = 2000\n",
    "for epoch in range(epochs+1):\n",
    "    \n",
    "    pred = model(x)\n",
    "    \n",
    "    cost = F.mse_loss(pred, y)\n",
    "    \n",
    "    optimizer.zero_grad()\n",
    "    cost.backward()\n",
    "    optimizer.step()\n",
    "    \n",
    "    if epoch%200==0:\n",
    "        print(f'Epoch: {epoch:4d} Cost: {cost.item():.6f}')"
   ]
  },
  {
   "cell_type": "markdown",
   "id": "2b1d0891",
   "metadata": {},
   "source": [
    "### multi-variable, dataloader"
   ]
  },
  {
   "cell_type": "code",
   "execution_count": 15,
   "id": "d874f928",
   "metadata": {},
   "outputs": [
    {
     "name": "stdout",
     "output_type": "stream",
     "text": [
      "Epoch:    0 Batch: 1 Cost: 37832.964844\n",
      "Epoch:    0 Batch: 2 Cost: 5383.711914\n",
      "Epoch:    0 Batch: 3 Cost: 4050.090332\n",
      "Epoch:    1 Batch: 1 Cost: 877.398438\n",
      "Epoch:    1 Batch: 2 Cost: 289.127350\n",
      "Epoch:    1 Batch: 3 Cost: 81.386353\n",
      "Epoch:    2 Batch: 1 Cost: 10.878538\n",
      "Epoch:    2 Batch: 2 Cost: 20.967859\n",
      "Epoch:    2 Batch: 3 Cost: 44.585209\n",
      "Epoch:    3 Batch: 1 Cost: 6.106197\n",
      "Epoch:    3 Batch: 2 Cost: 12.443077\n",
      "Epoch:    3 Batch: 3 Cost: 0.103541\n",
      "Epoch:    4 Batch: 1 Cost: 3.841705\n",
      "Epoch:    4 Batch: 2 Cost: 13.074860\n",
      "Epoch:    4 Batch: 3 Cost: 0.015257\n",
      "Epoch:    5 Batch: 1 Cost: 12.749397\n",
      "Epoch:    5 Batch: 2 Cost: 0.349156\n",
      "Epoch:    5 Batch: 3 Cost: 7.768914\n",
      "Epoch:    6 Batch: 1 Cost: 12.609869\n",
      "Epoch:    6 Batch: 2 Cost: 4.564456\n",
      "Epoch:    6 Batch: 3 Cost: 8.409787\n",
      "Epoch:    7 Batch: 1 Cost: 17.992006\n",
      "Epoch:    7 Batch: 2 Cost: 8.412210\n",
      "Epoch:    7 Batch: 3 Cost: 1.334093\n",
      "Epoch:    8 Batch: 1 Cost: 13.621430\n",
      "Epoch:    8 Batch: 2 Cost: 3.539710\n",
      "Epoch:    8 Batch: 3 Cost: 0.133820\n",
      "Epoch:    9 Batch: 1 Cost: 3.381795\n",
      "Epoch:    9 Batch: 2 Cost: 10.711442\n",
      "Epoch:    9 Batch: 3 Cost: 13.278049\n",
      "Epoch:   10 Batch: 1 Cost: 15.226593\n",
      "Epoch:   10 Batch: 2 Cost: 3.316264\n",
      "Epoch:   10 Batch: 3 Cost: 2.747816\n"
     ]
    }
   ],
   "source": [
    "from torch.utils.data import TensorDataset\n",
    "from torch.utils.data import DataLoader\n",
    "\n",
    "x = [[73, 80, 75], \n",
    "     [93, 88, 93], \n",
    "     [89, 91, 80], \n",
    "     [96, 98, 100], \n",
    "     [73, 66, 70]]\n",
    "y = [[152], [185], [180], [196], [142]]\n",
    "x = torch.FloatTensor(x) \n",
    "y = torch.FloatTensor(y)\n",
    "\n",
    "dataset = TensorDataset(x, y)\n",
    "\n",
    "dataloader = DataLoader(dataset, batch_size=2, shuffle=True)\n",
    "\n",
    "class LinearRegressionModel(nn.Module):\n",
    "    def __init__(self):\n",
    "        super().__init__()\n",
    "        self.linear = nn.Linear(3, 1)\n",
    "        \n",
    "    def forward(self, x):\n",
    "        return self.linear(x)\n",
    "    \n",
    "model = LinearRegressionModel()\n",
    "\n",
    "optimizer = optim.SGD(model.parameters(), lr=1e-5) \n",
    "\n",
    "epochs = 10\n",
    "for epoch in range(epochs+1):\n",
    "    for batch_index, samples, in enumerate(dataloader):\n",
    "        x, y = samples\n",
    "        \n",
    "        pred = model(x)\n",
    "        \n",
    "        cost = F.mse_loss(pred, y)\n",
    "        \n",
    "        optimizer.zero_grad()\n",
    "        cost.backward()\n",
    "        optimizer.step()\n",
    "        \n",
    "        print(f'Epoch: {epoch:4d} Batch: {batch_index+1} Cost: {cost.item():.6f}')"
   ]
  },
  {
   "cell_type": "markdown",
   "id": "967a4cb1",
   "metadata": {},
   "source": [
    "### multi-variable, custom dataset"
   ]
  },
  {
   "cell_type": "code",
   "execution_count": 16,
   "id": "f3d1ca79",
   "metadata": {},
   "outputs": [
    {
     "name": "stdout",
     "output_type": "stream",
     "text": [
      "Epoch:    0 Batch: 1 Cost: 36806.976562\n",
      "Epoch:    0 Batch: 2 Cost: 12693.960938\n",
      "Epoch:    0 Batch: 3 Cost: 6318.707031\n",
      "Epoch:    1 Batch: 1 Cost: 836.869263\n",
      "Epoch:    1 Batch: 2 Cost: 291.096802\n",
      "Epoch:    1 Batch: 3 Cost: 203.629105\n",
      "Epoch:    2 Batch: 1 Cost: 24.184956\n",
      "Epoch:    2 Batch: 2 Cost: 16.165405\n",
      "Epoch:    2 Batch: 3 Cost: 0.061444\n",
      "Epoch:    3 Batch: 1 Cost: 10.490104\n",
      "Epoch:    3 Batch: 2 Cost: 5.714315\n",
      "Epoch:    3 Batch: 3 Cost: 20.054779\n",
      "Epoch:    4 Batch: 1 Cost: 6.230009\n",
      "Epoch:    4 Batch: 2 Cost: 13.505291\n",
      "Epoch:    4 Batch: 3 Cost: 12.005566\n",
      "Epoch:    5 Batch: 1 Cost: 4.759525\n",
      "Epoch:    5 Batch: 2 Cost: 25.051466\n",
      "Epoch:    5 Batch: 3 Cost: 1.494329\n",
      "Epoch:    6 Batch: 1 Cost: 1.125180\n",
      "Epoch:    6 Batch: 2 Cost: 18.490128\n",
      "Epoch:    6 Batch: 3 Cost: 19.577412\n",
      "Epoch:    7 Batch: 1 Cost: 4.173748\n",
      "Epoch:    7 Batch: 2 Cost: 11.820674\n",
      "Epoch:    7 Batch: 3 Cost: 15.244369\n",
      "Epoch:    8 Batch: 1 Cost: 6.523158\n",
      "Epoch:    8 Batch: 2 Cost: 6.630757\n",
      "Epoch:    8 Batch: 3 Cost: 19.447594\n",
      "Epoch:    9 Batch: 1 Cost: 18.079784\n",
      "Epoch:    9 Batch: 2 Cost: 11.907951\n",
      "Epoch:    9 Batch: 3 Cost: 1.842511\n",
      "Epoch:   10 Batch: 1 Cost: 3.749647\n",
      "Epoch:   10 Batch: 2 Cost: 13.703598\n",
      "Epoch:   10 Batch: 3 Cost: 14.907263\n"
     ]
    }
   ],
   "source": [
    "from torch.utils.data import Dataset\n",
    "from torch.utils.data import DataLoader\n",
    "\n",
    "class CustomDataset(Dataset):\n",
    "    def __init__(self):\n",
    "        self.x_data = [[73, 80, 75],\n",
    "                       [93, 88, 93],\n",
    "                       [89, 91, 90],\n",
    "                       [96, 98, 100],\n",
    "                       [73, 66, 70]]\n",
    "        self.y_data = [[152], [185], [180], [196], [142]]\n",
    "        \n",
    "    def __len__(self):\n",
    "        return len(self.x_data)\n",
    "    \n",
    "    def __getitem__(self, idx): # 1회 샘플\n",
    "        x = torch.FloatTensor(self.x_data[idx])\n",
    "        y = torch.FloatTensor(self.y_data[idx])\n",
    "        return x, y\n",
    "    \n",
    "dataset = CustomDataset()\n",
    "\n",
    "dataloader = DataLoader(dataset, batch_size=2, shuffle=True)\n",
    "\n",
    "class LinearRegressionModel(nn.Module):\n",
    "    def __init__(self):\n",
    "        super().__init__()\n",
    "        self.linear = nn.Linear(3, 1)\n",
    "        \n",
    "    def forward(self, x):\n",
    "        return self.linear(x)\n",
    "    \n",
    "model = LinearRegressionModel()\n",
    "\n",
    "optimizer = optim.SGD(model.parameters(), lr=1e-5) \n",
    "\n",
    "epochs = 10\n",
    "for epoch in range(epochs+1):\n",
    "    for batch_index, samples, in enumerate(dataloader):\n",
    "        x, y = samples\n",
    "        \n",
    "        pred = model(x)\n",
    "        \n",
    "        cost = F.mse_loss(pred, y)\n",
    "        \n",
    "        optimizer.zero_grad()\n",
    "        cost.backward()\n",
    "        optimizer.step()\n",
    "        \n",
    "        print(f'Epoch: {epoch:4d} Batch: {batch_index+1} Cost: {cost.item():.6f}')"
   ]
  },
  {
   "cell_type": "markdown",
   "id": "d1dd6037",
   "metadata": {},
   "source": [
    "## Logistic Regression"
   ]
  },
  {
   "cell_type": "markdown",
   "id": "62705736",
   "metadata": {},
   "source": [
    "### single-variable binary, torch"
   ]
  },
  {
   "cell_type": "code",
   "execution_count": 17,
   "id": "8d9c97f7",
   "metadata": {},
   "outputs": [
    {
     "name": "stdout",
     "output_type": "stream",
     "text": [
      "Epoch:    0 Cost: 0.693147\n",
      "Epoch:  100 Cost: 0.187938\n",
      "Epoch:  200 Cost: 0.176904\n",
      "Epoch:  300 Cost: 0.167174\n",
      "Epoch:  400 Cost: 0.158562\n",
      "Epoch:  500 Cost: 0.150915\n",
      "Epoch:  600 Cost: 0.144098\n",
      "Epoch:  700 Cost: 0.137998\n",
      "Epoch:  800 Cost: 0.132516\n",
      "Epoch:  900 Cost: 0.127568\n",
      "Epoch: 1000 Cost: 0.123085\n"
     ]
    }
   ],
   "source": [
    "x = [-50, -40, -30, -20, -10, -5, 0, 5, 10, 20, 30, 40, 50]\n",
    "y = [0, 0, 0, 0, 0, 0, 0, 0, 1, 1, 1, 1, 1]\n",
    "x = torch.FloatTensor(x)\n",
    "y = torch.FloatTensor(y)\n",
    "\n",
    "W = torch.zeros(1, requires_grad=True)\n",
    "b = torch.zeros(1, requires_grad=True)\n",
    "\n",
    "optimizer = optim.SGD([W, b], lr=0.01)\n",
    "\n",
    "epochs = 1000\n",
    "for epoch in range(epochs+1):\n",
    "    \n",
    "    pred = 1/(1+torch.exp(-(x*W+b)))\n",
    "    \n",
    "    # mean of it\n",
    "    cost = -(y * torch.log(pred) + (1-y) * torch.log(1-pred)).mean()\n",
    "    \n",
    "    optimizer.zero_grad()\n",
    "    cost.backward()\n",
    "    optimizer.step()\n",
    "    \n",
    "    if epoch%100==0:\n",
    "        print(f'Epoch: {epoch:4d} Cost: {cost.item():.6f}')    "
   ]
  },
  {
   "cell_type": "code",
   "execution_count": 18,
   "id": "cf951e96",
   "metadata": {},
   "outputs": [
    {
     "data": {
      "text/plain": [
       "array([1.78824541e-06, 2.12113300e-05, 2.51546036e-04, 2.97564943e-03,\n",
       "       3.41913551e-02, 1.08676426e-01, 2.95738816e-01, 5.91214299e-01,\n",
       "       8.32806230e-01, 9.83356714e-01, 9.98575211e-01, 9.99879718e-01,\n",
       "       9.99989867e-01], dtype=float32)"
      ]
     },
     "execution_count": 18,
     "metadata": {},
     "output_type": "execute_result"
    }
   ],
   "source": [
    "output = 1/(1+torch.exp(-(x*W+b)))\n",
    "output = output.detach().numpy()\n",
    "output"
   ]
  },
  {
   "cell_type": "code",
   "execution_count": 19,
   "id": "de5c984c",
   "metadata": {},
   "outputs": [
    {
     "data": {
      "text/plain": [
       "[<matplotlib.lines.Line2D at 0x11f1938e0>,\n",
       " <matplotlib.lines.Line2D at 0x11f193910>]"
      ]
     },
     "execution_count": 19,
     "metadata": {},
     "output_type": "execute_result"
    },
    {
     "data": {
      "image/png": "[encoded data removed]",
      "text/plain": [
       "<Figure size 432x288 with 1 Axes>"
      ]
     },
     "metadata": {
      "needs_background": "light"
     },
     "output_type": "display_data"
    }
   ],
   "source": [
    "x = x.detach().numpy()\n",
    "y = y.detach().numpy()\n",
    "plt.plot(x, output, 'b', x, y, 'k.')"
   ]
  },
  {
   "cell_type": "markdown",
   "id": "48207b15",
   "metadata": {},
   "source": [
    "### multi-variable binary, torch"
   ]
  },
  {
   "cell_type": "code",
   "execution_count": 20,
   "id": "6d10a829",
   "metadata": {},
   "outputs": [
    {
     "name": "stdout",
     "output_type": "stream",
     "text": [
      "tensor([[0.5000],\n",
      "        [0.5000],\n",
      "        [0.5000],\n",
      "        [0.5000],\n",
      "        [0.5000],\n",
      "        [0.5000]], grad_fn=<SigmoidBackward0>)\n"
     ]
    }
   ],
   "source": [
    "x = [[1, 2], [2, 3], [3, 1], [4, 3], [5, 3], [6, 2]]\n",
    "y = [[0], [0], [0], [1], [1], [1]]\n",
    "x = torch.FloatTensor(x)\n",
    "y = torch.FloatTensor(y)\n",
    "\n",
    "W = torch.zeros((2, 1), requires_grad=True)\n",
    "b = torch.zeros(1, requires_grad=True)\n",
    "\n",
    "# previously,\n",
    "# pred = 1/(1+torch.exp(-(x.matmul(W)+b)))\n",
    "pred = torch.sigmoid(x.matmul(W)+b)\n",
    "\n",
    "print(pred)"
   ]
  },
  {
   "cell_type": "code",
   "execution_count": 21,
   "id": "c4975ddd",
   "metadata": {},
   "outputs": [
    {
     "data": {
      "text/plain": [
       "tensor([0.6931], grad_fn=<NegBackward0>)"
      ]
     },
     "execution_count": 21,
     "metadata": {},
     "output_type": "execute_result"
    }
   ],
   "source": [
    "loss = -(y[0] * torch.log(pred[0]) + (1-y[0]) * torch.log(1-pred[0]))\n",
    "loss"
   ]
  },
  {
   "cell_type": "code",
   "execution_count": 22,
   "id": "56d9073e",
   "metadata": {},
   "outputs": [
    {
     "data": {
      "text/plain": [
       "tensor([[0.6931],\n",
       "        [0.6931],\n",
       "        [0.6931],\n",
       "        [0.6931],\n",
       "        [0.6931],\n",
       "        [0.6931]], grad_fn=<NegBackward0>)"
      ]
     },
     "execution_count": 22,
     "metadata": {},
     "output_type": "execute_result"
    }
   ],
   "source": [
    "losses = -(y * torch.log(pred) + (1-y) * torch.log(1-pred))\n",
    "losses"
   ]
  },
  {
   "cell_type": "code",
   "execution_count": 23,
   "id": "e8670244",
   "metadata": {},
   "outputs": [
    {
     "data": {
      "text/plain": [
       "tensor(0.6931, grad_fn=<MeanBackward0>)"
      ]
     },
     "execution_count": 23,
     "metadata": {},
     "output_type": "execute_result"
    }
   ],
   "source": [
    "cost = losses.mean()\n",
    "cost"
   ]
  },
  {
   "cell_type": "code",
   "execution_count": 24,
   "id": "b40a026a",
   "metadata": {},
   "outputs": [
    {
     "name": "stdout",
     "output_type": "stream",
     "text": [
      "Epoch:    0 Cost: 0.693147\n",
      "Epoch:  100 Cost: 0.134722\n",
      "Epoch:  200 Cost: 0.080643\n",
      "Epoch:  300 Cost: 0.057900\n",
      "Epoch:  400 Cost: 0.045300\n",
      "Epoch:  500 Cost: 0.037261\n",
      "Epoch:  600 Cost: 0.031673\n",
      "Epoch:  700 Cost: 0.027556\n",
      "Epoch:  800 Cost: 0.024394\n",
      "Epoch:  900 Cost: 0.021888\n",
      "Epoch: 1000 Cost: 0.019852\n"
     ]
    }
   ],
   "source": [
    "optimizer = optim.SGD([W, b], lr=1)\n",
    "\n",
    "epochs = 1000\n",
    "for epoch in range(epochs+1):\n",
    "    \n",
    "    pred = torch.sigmoid(x.matmul(W)+b)\n",
    "    \n",
    "    # mean of it\n",
    "    cost = -(y * torch.log(pred) + (1-y) * torch.log(1-pred)).mean()\n",
    "    \n",
    "    optimizer.zero_grad()\n",
    "    cost.backward()\n",
    "    optimizer.step()\n",
    "    \n",
    "    if epoch%100==0:\n",
    "        print(f'Epoch: {epoch:4d} Cost: {cost.item():.6f}')    "
   ]
  },
  {
   "cell_type": "code",
   "execution_count": 25,
   "id": "6927e54c",
   "metadata": {},
   "outputs": [
    {
     "name": "stdout",
     "output_type": "stream",
     "text": [
      "tensor([[2.7648e-04],\n",
      "        [3.1608e-02],\n",
      "        [3.8977e-02],\n",
      "        [9.5622e-01],\n",
      "        [9.9823e-01],\n",
      "        [9.9969e-01]], grad_fn=<SigmoidBackward0>)\n"
     ]
    }
   ],
   "source": [
    "pred = torch.sigmoid(x.matmul(W)+b)\n",
    "print(pred)"
   ]
  },
  {
   "cell_type": "code",
   "execution_count": 26,
   "id": "cc708979",
   "metadata": {},
   "outputs": [
    {
     "name": "stdout",
     "output_type": "stream",
     "text": [
      "tensor([[False],\n",
      "        [False],\n",
      "        [False],\n",
      "        [ True],\n",
      "        [ True],\n",
      "        [ True]])\n"
     ]
    }
   ],
   "source": [
    "prediction = pred>=torch.FloatTensor([0.5])\n",
    "print(prediction)"
   ]
  },
  {
   "cell_type": "code",
   "execution_count": 27,
   "id": "bde7fe4e",
   "metadata": {},
   "outputs": [
    {
     "name": "stdout",
     "output_type": "stream",
     "text": [
      "tensor([[3.2530],\n",
      "        [1.5179]], requires_grad=True)\n",
      "tensor([-14.4819], requires_grad=True)\n"
     ]
    }
   ],
   "source": [
    "print(W)\n",
    "print(b)"
   ]
  },
  {
   "cell_type": "markdown",
   "id": "57692699",
   "metadata": {},
   "source": [
    "### multi-variable binary, nn.Module"
   ]
  },
  {
   "cell_type": "code",
   "execution_count": 28,
   "id": "f11f6a8a",
   "metadata": {},
   "outputs": [
    {
     "name": "stdout",
     "output_type": "stream",
     "text": [
      "Epoch:    0 Cost: 1.260569 Accuracy: 0.17\n",
      "Epoch:   10 Cost: 0.427453 Accuracy: 0.83\n",
      "Epoch:   20 Cost: 0.581120 Accuracy: 0.83\n",
      "Epoch:   30 Cost: 0.466690 Accuracy: 0.83\n",
      "Epoch:   40 Cost: 0.380960 Accuracy: 0.83\n",
      "Epoch:   50 Cost: 0.300757 Accuracy: 0.83\n",
      "Epoch:   60 Cost: 0.230025 Accuracy: 0.83\n",
      "Epoch:   70 Cost: 0.179350 Accuracy: 1.00\n",
      "Epoch:   80 Cost: 0.154282 Accuracy: 1.00\n",
      "Epoch:   90 Cost: 0.142067 Accuracy: 1.00\n",
      "Epoch:  100 Cost: 0.132544 Accuracy: 1.00\n"
     ]
    }
   ],
   "source": [
    "x = [[1, 2], [2, 3], [3, 1], [4, 3], [5, 3], [6, 2]]\n",
    "y = [[0], [0], [0], [1], [1], [1]]\n",
    "x = torch.FloatTensor(x)\n",
    "y = torch.FloatTensor(y)\n",
    "\n",
    "model = nn.Sequential(\n",
    "    nn.Linear(2, 1), \n",
    "    nn.Sigmoid()\n",
    ")\n",
    "\n",
    "optimizer = optim.SGD(model.parameters(), lr=1)\n",
    "\n",
    "epochs = 100\n",
    "for epoch in range(epochs+1):\n",
    "    \n",
    "    pred = model(x)\n",
    "    \n",
    "    # previously,\n",
    "    # cost = -(y * torch.log(pred) + (1-y) * torch.log(1-pred)).mean()\n",
    "    cost = F.binary_cross_entropy(pred, y)\n",
    "    \n",
    "    optimizer.zero_grad()\n",
    "    cost.backward()\n",
    "    optimizer.step()\n",
    "    \n",
    "    if epoch%10==0:\n",
    "        prediction = pred>=torch.FloatTensor([0.5])\n",
    "        correct_prediction = prediction.float()==y\n",
    "        accuracy = correct_prediction.sum().item()/len(correct_prediction)\n",
    "        print(f'Epoch: {epoch:4d} Cost: {cost.item():.6f} Accuracy: {accuracy:2.2f}')"
   ]
  },
  {
   "cell_type": "code",
   "execution_count": 29,
   "id": "d3e31e23",
   "metadata": {},
   "outputs": [
    {
     "data": {
      "text/plain": [
       "tensor([[0.0234],\n",
       "        [0.1465],\n",
       "        [0.2699],\n",
       "        [0.7981],\n",
       "        [0.9499],\n",
       "        [0.9839]], grad_fn=<SigmoidBackward0>)"
      ]
     },
     "execution_count": 29,
     "metadata": {},
     "output_type": "execute_result"
    }
   ],
   "source": [
    "model(x)"
   ]
  },
  {
   "cell_type": "code",
   "execution_count": 30,
   "id": "5f023e8a",
   "metadata": {},
   "outputs": [
    {
     "name": "stdout",
     "output_type": "stream",
     "text": [
      "[Parameter containing:\n",
      "tensor([[1.5681, 0.4006]], requires_grad=True), Parameter containing:\n",
      "tensor([-6.1000], requires_grad=True)]\n"
     ]
    }
   ],
   "source": [
    "print(list(model.parameters()))"
   ]
  },
  {
   "cell_type": "markdown",
   "id": "597b14ab",
   "metadata": {},
   "source": [
    "### multi-variable binary, class"
   ]
  },
  {
   "cell_type": "code",
   "execution_count": 31,
   "id": "57f544cb",
   "metadata": {
    "scrolled": true
   },
   "outputs": [
    {
     "name": "stdout",
     "output_type": "stream",
     "text": [
      "Epoch:    0 Cost: 0.683832 Accuracy: 0.50\n",
      "Epoch:   10 Cost: 0.730498 Accuracy: 0.67\n",
      "Epoch:   20 Cost: 0.610570 Accuracy: 0.83\n",
      "Epoch:   30 Cost: 0.503967 Accuracy: 0.83\n",
      "Epoch:   40 Cost: 0.417193 Accuracy: 0.83\n",
      "Epoch:   50 Cost: 0.334765 Accuracy: 0.83\n",
      "Epoch:   60 Cost: 0.258952 Accuracy: 0.83\n",
      "Epoch:   70 Cost: 0.198110 Accuracy: 0.83\n",
      "Epoch:   80 Cost: 0.162520 Accuracy: 1.00\n",
      "Epoch:   90 Cost: 0.146767 Accuracy: 1.00\n",
      "Epoch:  100 Cost: 0.136500 Accuracy: 1.00\n"
     ]
    }
   ],
   "source": [
    "x = [[1, 2], [2, 3], [3, 1], [4, 3], [5, 3], [6, 2]]\n",
    "y = [[0], [0], [0], [1], [1], [1]]\n",
    "x = torch.FloatTensor(x)\n",
    "y = torch.FloatTensor(y)\n",
    "\n",
    "class BinaryClassifier(nn.Module):\n",
    "    def __init__(self):\n",
    "        super().__init__()\n",
    "        self.linear = nn.Linear(2, 1)\n",
    "        self.sigmoid = nn.Sigmoid()\n",
    "    \n",
    "    def forward(self, x):\n",
    "        return self.sigmoid(self.linear(x))\n",
    "\n",
    "model = BinaryClassifier()\n",
    "    \n",
    "optimizer = optim.SGD(model.parameters(), lr=1)\n",
    "\n",
    "epochs = 100\n",
    "for epoch in range(epochs+1):\n",
    "    \n",
    "    pred = model(x)\n",
    "    \n",
    "    cost = F.binary_cross_entropy(pred, y)\n",
    "    \n",
    "    optimizer.zero_grad()\n",
    "    cost.backward()\n",
    "    optimizer.step()\n",
    "    \n",
    "    if epoch%10==0:\n",
    "        prediction = pred>=torch.FloatTensor([0.5])\n",
    "        correct_prediction = prediction.float()==y\n",
    "        accuracy = correct_prediction.sum().item()/len(correct_prediction)\n",
    "        print(f'Epoch: {epoch:4d} Cost: {cost.item():.6f} Accuracy: {accuracy:2.2f}')"
   ]
  },
  {
   "cell_type": "markdown",
   "id": "536843f3",
   "metadata": {},
   "source": [
    "### multi-variable multi-class, torch"
   ]
  },
  {
   "cell_type": "code",
   "execution_count": 32,
   "id": "594f00c0",
   "metadata": {},
   "outputs": [
    {
     "name": "stdout",
     "output_type": "stream",
     "text": [
      "tensor([2, 2, 2, 1, 1, 1, 0, 0])\n",
      "tensor([[0., 0., 1.],\n",
      "        [0., 0., 1.],\n",
      "        [0., 0., 1.],\n",
      "        [0., 1., 0.],\n",
      "        [0., 1., 0.],\n",
      "        [0., 1., 0.],\n",
      "        [1., 0., 0.],\n",
      "        [1., 0., 0.]])\n"
     ]
    }
   ],
   "source": [
    "x = [[1, 2, 1, 1],\n",
    "     [2, 1, 3, 2],\n",
    "     [3, 1, 3, 4],\n",
    "     [4, 1, 5, 5],\n",
    "     [1, 7, 5, 5],\n",
    "     [1, 2, 5, 6],\n",
    "     [1, 6, 6, 6],\n",
    "     [1, 7, 7, 7]]\n",
    "y = [2, 2, 2, 1, 1, 1, 0, 0]\n",
    "x = torch.FloatTensor(x)\n",
    "y = torch.LongTensor(y)\n",
    "print(y)\n",
    "\n",
    "y_one_hot = torch.zeros(8, 3)\n",
    "y_one_hot.scatter_(1, y.unsqueeze(1), 1)\n",
    "print(y_one_hot)"
   ]
  },
  {
   "cell_type": "code",
   "execution_count": 33,
   "id": "83e6590e",
   "metadata": {},
   "outputs": [
    {
     "name": "stdout",
     "output_type": "stream",
     "text": [
      "Epoch:    0 Cost: 1.098612\n",
      "Epoch:  100 Cost: 0.761050\n",
      "Epoch:  200 Cost: 0.689991\n",
      "Epoch:  300 Cost: 0.643229\n",
      "Epoch:  400 Cost: 0.604117\n",
      "Epoch:  500 Cost: 0.568255\n",
      "Epoch:  600 Cost: 0.533922\n",
      "Epoch:  700 Cost: 0.500291\n",
      "Epoch:  800 Cost: 0.466908\n",
      "Epoch:  900 Cost: 0.433507\n",
      "Epoch: 1000 Cost: 0.399962\n"
     ]
    }
   ],
   "source": [
    "W = torch.zeros((4, 3), requires_grad=True)\n",
    "b = torch.zeros(1, requires_grad=True)\n",
    "\n",
    "optimizer = optim.SGD([W, b], lr=0.1)\n",
    "\n",
    "epochs = 1000\n",
    "for epoch in range(epochs+1):\n",
    "    \n",
    "    z = x.matmul(W)+b\n",
    "    # F.log_softmax() = torch.log(F.softmax())\n",
    "    # F.cross_entropy() = F.nll_loss(F.log_softmax())\n",
    "    # F.cross_entropy()는 softmax함수까지 포함하고 있음\n",
    "    cost = F.cross_entropy(z, y)\n",
    "    # F.cross_entropy()의 레이블은 원-핫 인코딩이 아님\n",
    "    # to_one_hot_vector 함수가 내장되어 있음\n",
    "    # one-hot vectors are memory inefficient\n",
    "    \n",
    "    optimizer.zero_grad()\n",
    "    cost.backward()\n",
    "    optimizer.step()\n",
    "    \n",
    "    if epoch%100==0:\n",
    "        print(f'Epoch: {epoch:4d} Cost: {cost.item():.6f}')  "
   ]
  },
  {
   "cell_type": "markdown",
   "id": "894ecaf0",
   "metadata": {},
   "source": [
    "### multi-variable multi-class, nn.Module"
   ]
  },
  {
   "cell_type": "code",
   "execution_count": 34,
   "id": "70ed2214",
   "metadata": {},
   "outputs": [
    {
     "name": "stdout",
     "output_type": "stream",
     "text": [
      "Epoch:    0 Cost: 0.980161\n",
      "Epoch:  100 Cost: 0.634140\n",
      "Epoch:  200 Cost: 0.555757\n",
      "Epoch:  300 Cost: 0.503022\n",
      "Epoch:  400 Cost: 0.459435\n",
      "Epoch:  500 Cost: 0.420410\n",
      "Epoch:  600 Cost: 0.383777\n",
      "Epoch:  700 Cost: 0.348091\n",
      "Epoch:  800 Cost: 0.312230\n",
      "Epoch:  900 Cost: 0.275780\n",
      "Epoch: 1000 Cost: 0.244954\n"
     ]
    }
   ],
   "source": [
    "x = [[1, 2, 1, 1],\n",
    "     [2, 1, 3, 2],\n",
    "     [3, 1, 3, 4],\n",
    "     [4, 1, 5, 5],\n",
    "     [1, 7, 5, 5],\n",
    "     [1, 2, 5, 6],\n",
    "     [1, 6, 6, 6],\n",
    "     [1, 7, 7, 7]]\n",
    "y = [2, 2, 2, 1, 1, 1, 0, 0]\n",
    "x = torch.FloatTensor(x)\n",
    "y = torch.LongTensor(y)\n",
    "\n",
    "model = nn.Linear(4, 3)\n",
    "\n",
    "optimizer = optim.SGD(model.parameters(), lr=0.1)\n",
    "\n",
    "epochs = 1000\n",
    "for epoch in range(epochs+1):\n",
    "    \n",
    "    z = model(x)\n",
    "    \n",
    "    cost = F.cross_entropy(z, y)\n",
    "    \n",
    "    optimizer.zero_grad()\n",
    "    cost.backward()\n",
    "    optimizer.step()\n",
    "    \n",
    "    if epoch%100==0:\n",
    "        print(f'Epoch: {epoch:4d} Cost: {cost.item():.6f}')  "
   ]
  },
  {
   "cell_type": "markdown",
   "id": "057570cb",
   "metadata": {},
   "source": [
    "### multi-variable multi-class, class"
   ]
  },
  {
   "cell_type": "code",
   "execution_count": 35,
   "id": "c9ca06a9",
   "metadata": {},
   "outputs": [
    {
     "name": "stdout",
     "output_type": "stream",
     "text": [
      "Epoch:    0 Cost: 2.651607\n",
      "Epoch:  100 Cost: 0.730743\n",
      "Epoch:  200 Cost: 0.637503\n",
      "Epoch:  300 Cost: 0.577953\n",
      "Epoch:  400 Cost: 0.526864\n",
      "Epoch:  500 Cost: 0.479029\n",
      "Epoch:  600 Cost: 0.432612\n",
      "Epoch:  700 Cost: 0.386771\n",
      "Epoch:  800 Cost: 0.341137\n",
      "Epoch:  900 Cost: 0.296026\n",
      "Epoch: 1000 Cost: 0.255381\n"
     ]
    }
   ],
   "source": [
    "x = [[1, 2, 1, 1],\n",
    "     [2, 1, 3, 2],\n",
    "     [3, 1, 3, 4],\n",
    "     [4, 1, 5, 5],\n",
    "     [1, 7, 5, 5],\n",
    "     [1, 2, 5, 6],\n",
    "     [1, 6, 6, 6],\n",
    "     [1, 7, 7, 7]]\n",
    "y = [2, 2, 2, 1, 1, 1, 0, 0]\n",
    "x = torch.FloatTensor(x)\n",
    "y = torch.LongTensor(y)\n",
    "\n",
    "class SoftmaxClassifierModel(nn.Module):\n",
    "    def __init__(self):\n",
    "        super().__init__()\n",
    "        self.linear = nn.Linear(4, 3)\n",
    "        \n",
    "    def forward(self, x):\n",
    "        return self.linear(x)\n",
    "    \n",
    "model = SoftmaxClassifierModel()\n",
    "\n",
    "optimizer = optim.SGD(model.parameters(), lr=0.1)\n",
    "\n",
    "epochs = 1000\n",
    "for epoch in range(epochs+1):\n",
    "    \n",
    "    z = model(x)\n",
    "    \n",
    "    cost = F.cross_entropy(z, y)\n",
    "    \n",
    "    optimizer.zero_grad()\n",
    "    cost.backward()\n",
    "    optimizer.step()\n",
    "    \n",
    "    if epoch%100==0:\n",
    "        print(f'Epoch: {epoch:4d} Cost: {cost.item():.6f}')  "
   ]
  },
  {
   "cell_type": "code",
   "execution_count": null,
   "id": "19b6f046",
   "metadata": {},
   "outputs": [],
   "source": []
  }
 ],
 "metadata": {
  "kernelspec": {
   "display_name": "Python 3",
   "language": "python",
   "name": "python3"
  },
  "language_info": {
   "codemirror_mode": {
    "name": "ipython",
    "version": 3
   },
   "file_extension": ".py",
   "mimetype": "text/x-python",
   "name": "python",
   "nbconvert_exporter": "python",
   "pygments_lexer": "ipython3",
   "version": "3.8.13"
  }
 },
 "nbformat": 4,
 "nbformat_minor": 5
}

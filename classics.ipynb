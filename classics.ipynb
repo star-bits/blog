{
 "cells": [
  {
   "cell_type": "markdown",
   "id": "53aac378",
   "metadata": {},
   "source": [
    "### 컴퓨터는 1초에 100M번 동작\n",
    "- n = 5,000 -> $O(n^2)$\n",
    "- n = 200,000 -> $O(n\\log n)$\n",
    "\n",
    "### 수 하나는 4-8 Bytes\n",
    "- int a[10000000] -> 40,000,000B = 40MB\n",
    "- int a[5000][5000] -> 100,000,000B = 100MB"
   ]
  },
  {
   "cell_type": "markdown",
   "id": "8f65ce75",
   "metadata": {},
   "source": [
    "## Classics"
   ]
  },
  {
   "cell_type": "markdown",
   "id": "c5741292",
   "metadata": {},
   "source": [
    "### Factorization"
   ]
  },
  {
   "cell_type": "code",
   "execution_count": 70,
   "id": "b846cb47",
   "metadata": {},
   "outputs": [
    {
     "name": "stdout",
     "output_type": "stream",
     "text": [
      "[2, 2, 3]\n"
     ]
    }
   ],
   "source": [
    "def factorize(n):\n",
    "    factors = []\n",
    "    \n",
    "    i = 2\n",
    "    while n!=1:\n",
    "        if n%i == 0:\n",
    "            n = n/i\n",
    "            factors.append(i)\n",
    "        else:\n",
    "            i += 1\n",
    "            \n",
    "    return factors\n",
    "\n",
    "n = 12\n",
    "print(factorize(n))"
   ]
  },
  {
   "cell_type": "markdown",
   "id": "bafdb06b",
   "metadata": {},
   "source": [
    "### GCD, LCM"
   ]
  },
  {
   "cell_type": "code",
   "execution_count": 69,
   "id": "c5a29cb9",
   "metadata": {},
   "outputs": [
    {
     "name": "stdout",
     "output_type": "stream",
     "text": [
      "3\n",
      "42\n"
     ]
    }
   ],
   "source": [
    "def gcd(a, b):\n",
    "    while b>0:\n",
    "        a, b = b, a%b\n",
    "    return a\n",
    "\n",
    "def lcm(a, b):\n",
    "    return a*b // gcd(a, b)\n",
    "\n",
    "a, b = 6, 21\n",
    "print(gcd(a, b))\n",
    "print(lcm(a, b))"
   ]
  },
  {
   "cell_type": "markdown",
   "id": "1f80b703",
   "metadata": {},
   "source": [
    "### Prime"
   ]
  },
  {
   "cell_type": "code",
   "execution_count": 72,
   "id": "f99e7097",
   "metadata": {},
   "outputs": [
    {
     "name": "stdout",
     "output_type": "stream",
     "text": [
      "True\n"
     ]
    }
   ],
   "source": [
    "def is_prime(n):\n",
    "    if n==0 or n==1:\n",
    "        return False\n",
    "    \n",
    "    if n==2 or n==3:\n",
    "        return True\n",
    "    \n",
    "    for i in range(2, int(n**0.5)+1):\n",
    "        if n%i == 0:\n",
    "            return False\n",
    "    \n",
    "    return True\n",
    "\n",
    "n = 23\n",
    "print(is_prime(n))"
   ]
  },
  {
   "cell_type": "code",
   "execution_count": 100,
   "id": "7c6133d4",
   "metadata": {},
   "outputs": [
    {
     "name": "stdout",
     "output_type": "stream",
     "text": [
      "[False, False, True, True, False, True, False, True, False, False, False, True, False, True, False, False]\n"
     ]
    }
   ],
   "source": [
    "def sieve_of_eratosthenes(n):\n",
    "    primes = [False, False] + [True]*(n-1)\n",
    "    \n",
    "    for i in range(2, int(n**0.5)+1):\n",
    "        if primes[i]==True:\n",
    "            for j in range(2*i, n+1, i):\n",
    "                primes[j] = False\n",
    "                \n",
    "    return primes\n",
    "                \n",
    "print(sieve_of_eratosthenes(15))"
   ]
  },
  {
   "cell_type": "markdown",
   "id": "c610c1da",
   "metadata": {},
   "source": [
    "### Fibonacci"
   ]
  },
  {
   "cell_type": "code",
   "execution_count": 80,
   "id": "1285e705",
   "metadata": {},
   "outputs": [
    {
     "name": "stdout",
     "output_type": "stream",
     "text": [
      "55\n"
     ]
    }
   ],
   "source": [
    "def fibonacci_iterative(n):\n",
    "    a, b = 0, 1\n",
    "    for _ in range(0, n):\n",
    "        a, b = b, a+b\n",
    "    return a\n",
    "\n",
    "n = 10\n",
    "print(fibonacci_iterative(n))"
   ]
  },
  {
   "cell_type": "code",
   "execution_count": 82,
   "id": "407aee3e",
   "metadata": {},
   "outputs": [
    {
     "name": "stdout",
     "output_type": "stream",
     "text": [
      "55\n"
     ]
    }
   ],
   "source": [
    "def fibonacci_recursive(n):\n",
    "    if n==0 or n==1:\n",
    "        return n\n",
    "    \n",
    "    return fibonacci_recursive(n-1) + fibonacci_recursive(n-2)\n",
    "\n",
    "n = 10\n",
    "print(fibonacci_recursive(n))"
   ]
  },
  {
   "cell_type": "code",
   "execution_count": 114,
   "id": "becb1d3e",
   "metadata": {},
   "outputs": [
    {
     "name": "stdout",
     "output_type": "stream",
     "text": [
      "55\n"
     ]
    }
   ],
   "source": [
    "def fibonacci_tabulation(n):\n",
    "    dp = [0, 1] + [0]*(n-1)\n",
    "    \n",
    "    for i in range(2, n+1):\n",
    "        dp[i] = dp[i-1] + dp[i-2]\n",
    "        \n",
    "    return dp[n]\n",
    "\n",
    "n = 10\n",
    "print(fibonacci_tabulation(n))"
   ]
  },
  {
   "cell_type": "code",
   "execution_count": 124,
   "id": "0806f49c",
   "metadata": {},
   "outputs": [
    {
     "name": "stdout",
     "output_type": "stream",
     "text": [
      "55\n"
     ]
    }
   ],
   "source": [
    "def fibonacci_tabulation_recursive(n):\n",
    "    if dp[n]:\n",
    "        return dp[n]\n",
    "    \n",
    "    if n==0 or n==1:\n",
    "        return n\n",
    "    \n",
    "    dp[n] = fibonacci_tabulation_recursive(n-1) + fibonacci_tabulation_recursive(n-2)\n",
    "    return dp[n]\n",
    "\n",
    "n = 10\n",
    "dp = [0] * (n+1)\n",
    "print(fibonacci_tabulation_recursive(n))"
   ]
  },
  {
   "cell_type": "markdown",
   "id": "625119bf",
   "metadata": {},
   "source": [
    "### Factorial"
   ]
  },
  {
   "cell_type": "code",
   "execution_count": 95,
   "id": "e9a4e38e",
   "metadata": {},
   "outputs": [
    {
     "name": "stdout",
     "output_type": "stream",
     "text": [
      "3628800\n"
     ]
    }
   ],
   "source": [
    "def factorial_iterative(n):\n",
    "    r = 1\n",
    "    for i in range(1, n+1):\n",
    "        r *= i\n",
    "    return r\n",
    "\n",
    "n = 10\n",
    "print(factorial_iterative(n))"
   ]
  },
  {
   "cell_type": "code",
   "execution_count": 134,
   "id": "b3322ed8",
   "metadata": {},
   "outputs": [
    {
     "name": "stdout",
     "output_type": "stream",
     "text": [
      "3628800\n"
     ]
    }
   ],
   "source": [
    "def factorial_recursive(n):\n",
    "    if n==0:\n",
    "        return 1\n",
    "    \n",
    "    return n * factorial_recursive(n-1)\n",
    "\n",
    "n = 10\n",
    "print(factorial_recursive(n))"
   ]
  },
  {
   "cell_type": "code",
   "execution_count": 132,
   "id": "cb92cd2f",
   "metadata": {},
   "outputs": [
    {
     "name": "stdout",
     "output_type": "stream",
     "text": [
      "3628800\n"
     ]
    }
   ],
   "source": [
    "def factorial_tabulation(n):\n",
    "    dp = [1, 1] + [0]*(n-1)\n",
    "    \n",
    "    for i in range(2, n+1):\n",
    "        dp[i] = i * dp[i-1]\n",
    "        \n",
    "    return dp[n]\n",
    "        \n",
    "n = 10\n",
    "print(factorial_tabulation(n))"
   ]
  },
  {
   "cell_type": "code",
   "execution_count": 135,
   "id": "33e38d1b",
   "metadata": {},
   "outputs": [
    {
     "name": "stdout",
     "output_type": "stream",
     "text": [
      "3628800\n"
     ]
    }
   ],
   "source": [
    "def factorial_tabulation_recursive(n):\n",
    "    if dp[n]:\n",
    "        return dp[n]\n",
    "    \n",
    "    if n==0:\n",
    "        return 1\n",
    "    \n",
    "    dp[n] = n * factorial_tabulation_recursive(n-1)\n",
    "    return dp[n]\n",
    "\n",
    "n = 10\n",
    "dp = [0] * (n+1)\n",
    "print(factorial_tabulation_recursive(n))"
   ]
  },
  {
   "cell_type": "markdown",
   "id": "b13a6223",
   "metadata": {},
   "source": [
    "### Hanoi"
   ]
  },
  {
   "cell_type": "code",
   "execution_count": 141,
   "id": "bc0b2c9d",
   "metadata": {},
   "outputs": [
    {
     "name": "stdout",
     "output_type": "stream",
     "text": [
      "A C\n",
      "A B\n",
      "C B\n",
      "A C\n",
      "B A\n",
      "B C\n",
      "A C\n"
     ]
    }
   ],
   "source": [
    "def hanoi(n, a, b, c):\n",
    "    if n == 1:\n",
    "        print(a, c)\n",
    "    else:\n",
    "        hanoi(n-1, a, c, b) # n-1개의 원반을 a에서 b로\n",
    "        print(a, c) # 마지막 원반을 a에서 c로\n",
    "        hanoi(n-1, b, a, c) # n-1개의 원반을 b에서 c로\n",
    "\n",
    "n = 3\n",
    "hanoi(n, \"A\", \"B\", \"C\")"
   ]
  },
  {
   "cell_type": "markdown",
   "id": "1f236e0d",
   "metadata": {},
   "source": [
    "## Sort"
   ]
  },
  {
   "cell_type": "markdown",
   "id": "20a49cc8",
   "metadata": {},
   "source": [
    "### Bubble sort: 인접 element끼리 swap\n",
    "\n",
    "$O(n^2)$"
   ]
  },
  {
   "cell_type": "code",
   "execution_count": 39,
   "id": "f3de5846",
   "metadata": {},
   "outputs": [
    {
     "name": "stdout",
     "output_type": "stream",
     "text": [
      "[9, 8, 7, 6, 5, 4, 3, 2, 1, 0]\n",
      "[0, 1, 2, 3, 4, 5, 6, 7, 8, 9]\n"
     ]
    }
   ],
   "source": [
    "l = [i for i in range(9, -1, -1)]\n",
    "print(l)\n",
    "\n",
    "def bubble_sort(arr):\n",
    "    for i in range(len(arr)-1): # sort completed in the penultimate iteration\n",
    "        for j in range(len(arr)-i-1): # -i because i elements on the right are already sorted\n",
    "            if arr[j] > arr[j+1]:\n",
    "                arr[j], arr[j+1] = arr[j+1], arr[j]\n",
    "                \n",
    "bubble_sort(l)\n",
    "print(l)"
   ]
  },
  {
   "cell_type": "markdown",
   "id": "818f1377",
   "metadata": {},
   "source": [
    "### Selection sort: 최솟값 찾아 맨 앞으로 보냄\n",
    "\n",
    "$O(n^2)$"
   ]
  },
  {
   "cell_type": "code",
   "execution_count": 40,
   "id": "f7181d02",
   "metadata": {},
   "outputs": [
    {
     "name": "stdout",
     "output_type": "stream",
     "text": [
      "[9, 8, 7, 6, 5, 4, 3, 2, 1, 0]\n",
      "[0, 1, 2, 3, 4, 5, 6, 7, 8, 9]\n"
     ]
    }
   ],
   "source": [
    "l = [i for i in range(9, -1, -1)]\n",
    "print(l)\n",
    "\n",
    "def selection_sort(arr):\n",
    "    for i in range(len(arr)-1):\n",
    "        min_idx = i\n",
    "        for j in range(i+1, len(arr)):\n",
    "            if arr[j] < arr[min_idx]:\n",
    "                min_idx = j\n",
    "        arr[i], arr[min_idx] = arr[min_idx], arr[i]\n",
    "        \n",
    "selection_sort(l)\n",
    "print(l)"
   ]
  },
  {
   "cell_type": "markdown",
   "id": "392ef937",
   "metadata": {},
   "source": [
    "### Insertion sort: 오른쪽으로 한칸씩 진출하면서 알맞은 자리에 꽂아넣음\n",
    "\n",
    "Worst: $O(n^2)$, Average: $O(n^2)$, Best: $O(n)$"
   ]
  },
  {
   "cell_type": "code",
   "execution_count": 113,
   "id": "746523fc",
   "metadata": {},
   "outputs": [
    {
     "name": "stdout",
     "output_type": "stream",
     "text": [
      "[9, 8, 7, 6, 5, 4, 3, 2, 1, 0]\n",
      "[0, 1, 2, 3, 4, 5, 6, 7, 8, 9]\n"
     ]
    }
   ],
   "source": [
    "l = [i for i in range(9, -1, -1)]\n",
    "print(l)\n",
    "\n",
    "def insertion_sort(arr):\n",
    "    for i in range(1, len(arr)):\n",
    "        for j in range(i, 0, -1):\n",
    "            if arr[j-1] > arr[j]:\n",
    "                arr[j-1], arr[j] = arr[j], arr[j-1]\n",
    "                \n",
    "insertion_sort(l)\n",
    "print(l)"
   ]
  },
  {
   "cell_type": "markdown",
   "id": "711b6869",
   "metadata": {},
   "source": [
    "### Merge sort: merging two sorted lists, over and over\n",
    "\n",
    "$O(n\\log n)$"
   ]
  },
  {
   "cell_type": "code",
   "execution_count": 42,
   "id": "e07b9cc2",
   "metadata": {},
   "outputs": [
    {
     "name": "stdout",
     "output_type": "stream",
     "text": [
      "[9, 8, 7, 6, 5, 4, 3, 2, 1, 0]\n",
      "[0, 1, 2, 3, 4, 5, 6, 7, 8, 9]\n"
     ]
    }
   ],
   "source": [
    "l = [i for i in range(9, -1, -1)]\n",
    "print(l)\n",
    "\n",
    "def merge_sort(arr):\n",
    "    \n",
    "    def merge(left, right):\n",
    "        ret = []\n",
    "        i = j = 0 # pointers for left and right\n",
    "\n",
    "        while i < len(left) and j < len(right): # until either one is empty\n",
    "            if left[i] < right[j]:\n",
    "                ret.append(left[i])\n",
    "                i += 1\n",
    "            else:\n",
    "                ret.append(right[j])\n",
    "                j += 1     \n",
    "        ret.extend(left[i:])\n",
    "        ret.extend(right[j:])\n",
    "\n",
    "        return ret\n",
    "\n",
    "    if len(arr) == 1:\n",
    "        return arr\n",
    "    \n",
    "    mid = len(arr)//2\n",
    "    left = merge_sort(arr[:mid])\n",
    "    right = merge_sort(arr[mid:])\n",
    "    \n",
    "    return merge(left, right)\n",
    "\n",
    "l = merge_sort(l)\n",
    "print(l)"
   ]
  },
  {
   "cell_type": "markdown",
   "id": "c02e880f",
   "metadata": {},
   "source": [
    "### Quick sort: pivot 골라서 pivot보다 작으면 왼쪽, 크면 오른쪽\n",
    "\n",
    "Worst: $O(n^2)$, Average: $O(n\\log n)$, Best: $O(n\\log n)$"
   ]
  },
  {
   "cell_type": "code",
   "execution_count": 48,
   "id": "b7a8190a",
   "metadata": {},
   "outputs": [
    {
     "name": "stdout",
     "output_type": "stream",
     "text": [
      "[2, 7, 1, 3, 6, 5, 4]\n",
      "[1, 2, 3, 4, 5, 6, 7]\n"
     ]
    }
   ],
   "source": [
    "l = [2, 7, 1, 3, 6, 5, 4]\n",
    "print(l)\n",
    "\n",
    "def quick_sort(arr, first=0, last=None): # index of the first and last element\n",
    "    if last == None:\n",
    "        last = len(arr)-1\n",
    "    \n",
    "    def partition(arr, first, last):\n",
    "        pivot = arr[last]\n",
    "        j = first\n",
    "        # i is the current index being examined against the pivot\n",
    "        # j holds the index of the first element greater than the pivot\n",
    "        for i in range(first, last):\n",
    "            # arr[i] < pivot: arr[i]와 arr[j]를 swap하고 j+=1\n",
    "            # arr[i] >= pivot: j를 그 element에 고정하고 swap 없이 다음 i로 넘어감\n",
    "            if arr[i] < pivot:\n",
    "                arr[j], arr[i] = arr[i], arr[j]\n",
    "                j += 1\n",
    "\n",
    "        arr[j], arr[last] = arr[last], arr[j] # 마지막엔 j와 pivot도 swap\n",
    "        return j\n",
    "\n",
    "    if first < last:\n",
    "        pivot = partition(arr, first, last)\n",
    "        quick_sort(arr, first, pivot-1)\n",
    "        quick_sort(arr, pivot+1, last)\n",
    "\n",
    "quick_sort(l)\n",
    "print(l)"
   ]
  },
  {
   "cell_type": "markdown",
   "id": "6e12f7de",
   "metadata": {},
   "source": [
    "```python\n",
    "e.g. 2713654\n",
    "i=0            ->1->2            ->3            ->4->5\n",
    "j=0->2713654->1      ->2173654->2   ->2137654->3      ->2134657\n",
    "```"
   ]
  },
  {
   "cell_type": "markdown",
   "id": "8e62b95d",
   "metadata": {},
   "source": [
    "일반적으로 원소의 갯수가 적어질수록 나쁜 pivot이 선택될 확률이 높아지므로 원소의 갯수에 따라 다른 정렬을 혼합해 사용함."
   ]
  },
  {
   "cell_type": "markdown",
   "id": "be31ae15",
   "metadata": {},
   "source": [
    "### Heap sort: max heap 구성 -> 루트 노드 제거\n",
    "\n",
    "$O(n\\log n)$"
   ]
  },
  {
   "cell_type": "code",
   "execution_count": 54,
   "id": "598adda8",
   "metadata": {},
   "outputs": [
    {
     "name": "stdout",
     "output_type": "stream",
     "text": [
      "[5, 6, 3, 2, 0, 1, 9, 7, 8, 4]\n",
      "[0, 1, 2, 3, 4, 5, 6, 7, 8, 9]\n"
     ]
    }
   ],
   "source": [
    "import random\n",
    "l = [i for i in range(10)]\n",
    "random.shuffle(l)\n",
    "print(l)\n",
    "\n",
    "def heap_sort(arr):\n",
    "    \n",
    "    # checks the node and its two children \n",
    "    # to make sure the max heap property is maintained. \n",
    "    # if not, it swaps elements and recursively heapifies the affected subtree.\n",
    "    def heapify(arr, parent, length):\n",
    "        largest = parent # parent index\n",
    "        left = 2*parent+1 # left child index\n",
    "        right = 2*parent+2 # right child index\n",
    "\n",
    "        if left < length and arr[left] > arr[largest]: # max heap을 만족하지 않으면\n",
    "            largest = left # largest node index를 바꿈\n",
    "        if right < length and arr[right] > arr[largest]: # max heap을 만족하지 않으면\n",
    "            largest = right # largest node index를 바꿈\n",
    "\n",
    "        if largest != parent: # largest node index가 바뀌었다면\n",
    "            arr[largest], arr[parent] = arr[parent], arr[largest] # 기존 parent와 swap\n",
    "            heapify(arr, largest, length) \n",
    "            # largest--하지만 swap 후 더 이상 최댓값을 가리키지 않고 \n",
    "            # child nodes중 하나가 된--를 parent로 다시 heapify.\n",
    "            # (element를 swap했을 뿐 largest의 index는 그대로이기 때문.)\n",
    "        \n",
    "    # start from the last non-leaf node and move upwards to the root.\n",
    "    # higher indices are leaf nodes and they are already valid heaps.\n",
    "    # (since a single element is a valid heap by definition.)\n",
    "    for i in range((len(arr)//2)-1, -1, -1): # build max heap\n",
    "        heapify(arr, i, len(arr))\n",
    "        \n",
    "    for i in range(len(arr)-1, 0, -1): # 최댓값 찾아 맨 뒤로 보냄\n",
    "        arr[0], arr[i] = arr[i], arr[0]\n",
    "        heapify(arr, 0, i)\n",
    "    \n",
    "heap_sort(l)\n",
    "print(l)"
   ]
  },
  {
   "cell_type": "markdown",
   "id": "c55d5ebb",
   "metadata": {},
   "source": [
    "### Counting sort: count[i]-1은 i가 위치할 수 있는 최대 인덱스\n",
    "\n",
    "$O(n+k)$"
   ]
  },
  {
   "cell_type": "code",
   "execution_count": 56,
   "id": "112fa4c2",
   "metadata": {
    "scrolled": true
   },
   "outputs": [
    {
     "name": "stdout",
     "output_type": "stream",
     "text": [
      "[4, 2, 2, 8, 3, 3, 1]\n",
      "[1, 2, 2, 3, 3, 4, 8]\n"
     ]
    }
   ],
   "source": [
    "l = [4, 2, 2, 8, 3, 3, 1]\n",
    "print(l)\n",
    "\n",
    "def counting_sort(arr):\n",
    "    ret = [0] * len(arr)\n",
    "    count = [0] * (max(arr)+1)\n",
    "    \n",
    "    # count\n",
    "    for i in arr: \n",
    "        count[i] += 1\n",
    "    # print(count) # [0, 1, 2, 2, 1, 0, 0, 0, 1]\n",
    "    # cumulative count\n",
    "    for i in range(max(arr)): \n",
    "        count[i+1] += count[i]\n",
    "    # print(count) # [0, 1, 3, 5, 6, 6, 6, 6, 7] \n",
    "    \n",
    "    # reversed to maintain stability.\n",
    "    for i in reversed(arr): \n",
    "        # ret에 i가 들어갈 수 있는 인덱스 중 가장 큰 인덱스가 count[i]-1.\n",
    "        correct_index = count[i]-1 \n",
    "        # correct_index: the number of elements that are less than or equal to i.\n",
    "        ret[correct_index] = i \n",
    "        # 방금 i를 올바른 인덱스에 넣었으므로 다음 i는 그것보다 하나 작은 인덱스에 넣어야 됨.\n",
    "        # (방금 i와 다음 i의 값이 같은 경우.)\n",
    "        count[i] -= 1 \n",
    "            \n",
    "    return ret\n",
    "\n",
    "l = counting_sort(l)\n",
    "print(l)"
   ]
  },
  {
   "cell_type": "markdown",
   "id": "c67402fe",
   "metadata": {},
   "source": [
    "Non-comparison sort. Only works for non-negative integers."
   ]
  },
  {
   "cell_type": "markdown",
   "id": "22bda059",
   "metadata": {},
   "source": [
    "### Radix sort: decimal place 올려가면서 arq -> buckets, buckets -> arq\n",
    "\n",
    "$O(d*(n+k))$"
   ]
  },
  {
   "cell_type": "code",
   "execution_count": 58,
   "id": "243ef743",
   "metadata": {},
   "outputs": [
    {
     "name": "stdout",
     "output_type": "stream",
     "text": [
      "[152, 73, 69, 41, 28, 1247, 2, 33, 674, 388]\n",
      "[2, 28, 33, 41, 69, 73, 152, 388, 674, 1247]\n"
     ]
    }
   ],
   "source": [
    "l = [152, 73, 69, 41, 28, 1247, 2, 33, 674, 388]\n",
    "print(l)\n",
    "\n",
    "from collections import deque\n",
    "\n",
    "def radix_sort(arr):\n",
    "    # 해당 digit의 숫자(0-9)에 따라 담아놓을 deque들\n",
    "    buckets = [deque() for _ in range(10)]\n",
    "    arq = deque(arr)\n",
    "    \n",
    "    decimal = 1 # decimal place to examine    \n",
    "    while max(arr) >= decimal:\n",
    "        while arq: # arq에서 빼서 corresponding한 bucket들로 이동\n",
    "            i = arq.popleft() # or pop(0) if arq was a list\n",
    "            buckets[(i//decimal)%10].append(i)\n",
    "            \n",
    "        for bucket in buckets: # bucket들에서 순서대로 빼서 arq로 이동\n",
    "            while bucket:\n",
    "                arq.append(bucket.popleft()) # of pop(0) if bucket was a list\n",
    "                \n",
    "        decimal *= 10\n",
    "        \n",
    "    return list(arq)\n",
    "\n",
    "l = radix_sort(l)\n",
    "print(l)"
   ]
  },
  {
   "cell_type": "markdown",
   "id": "09f622f0",
   "metadata": {},
   "source": [
    "## Graph - Traversal"
   ]
  },
  {
   "cell_type": "markdown",
   "id": "bae2afb0",
   "metadata": {},
   "source": [
    "### DFS: stack-recursion"
   ]
  },
  {
   "cell_type": "code",
   "execution_count": 79,
   "id": "9bf3d18b",
   "metadata": {},
   "outputs": [
    {
     "name": "stdout",
     "output_type": "stream",
     "text": [
      "['A', 'B', 'G', 'F', 'H', 'C', 'D', 'E']\n"
     ]
    }
   ],
   "source": [
    "def dfs(graph, start, visited=None):\n",
    "    if visited is None:\n",
    "        visited = []\n",
    "\n",
    "    visited.append(start)\n",
    "\n",
    "    for neighbor in graph[start]:\n",
    "        if neighbor not in visited:\n",
    "            dfs(graph, neighbor, visited)\n",
    "\n",
    "    return visited\n",
    "\n",
    "graph = {\n",
    "    'A': ['B', 'C', 'H'],\n",
    "    'B': ['A', 'G'],\n",
    "    'C': ['A', 'D', 'E'],\n",
    "    'D': ['C', 'E'],\n",
    "    'E': ['C', 'D'],\n",
    "    'F': ['G'],\n",
    "    'G': ['B', 'F', 'H'],\n",
    "    'H': ['A', 'G']\n",
    "}\n",
    "\n",
    "start_node = 'A'\n",
    "visited_nodes = dfs(graph, start_node)\n",
    "print(visited_nodes)"
   ]
  },
  {
   "cell_type": "markdown",
   "id": "bb37a683",
   "metadata": {},
   "source": [
    "### BFS: queue"
   ]
  },
  {
   "cell_type": "code",
   "execution_count": 80,
   "id": "1fbc8785",
   "metadata": {},
   "outputs": [
    {
     "name": "stdout",
     "output_type": "stream",
     "text": [
      "['A', 'B', 'C', 'H', 'G', 'D', 'E', 'F']\n"
     ]
    }
   ],
   "source": [
    "from collections import deque\n",
    "\n",
    "def bfs(graph, start):\n",
    "    visited = [start]\n",
    "    q = deque([start])\n",
    "\n",
    "    while q:\n",
    "        node = q.popleft()\n",
    "\n",
    "        for neighbor in graph[node]:\n",
    "            if neighbor not in visited:\n",
    "                visited.append(neighbor)\n",
    "                q.append(neighbor)\n",
    "\n",
    "    return visited\n",
    "\n",
    "graph = {\n",
    "    'A': ['B', 'C', 'H'],\n",
    "    'B': ['A', 'G'],\n",
    "    'C': ['A', 'D', 'E'],\n",
    "    'D': ['C', 'E'],\n",
    "    'E': ['C', 'D'],\n",
    "    'F': ['G'],\n",
    "    'G': ['B', 'F', 'H'],\n",
    "    'H': ['A', 'G']\n",
    "}\n",
    "\n",
    "start_node = 'A'\n",
    "visited_nodes = bfs(graph, start_node)\n",
    "print(visited_nodes)"
   ]
  },
  {
   "cell_type": "markdown",
   "id": "43ea6ce8",
   "metadata": {},
   "source": [
    "## Graph - Shortest path"
   ]
  },
  {
   "cell_type": "markdown",
   "id": "0010ab96",
   "metadata": {},
   "source": [
    "### Dijkstra: 한 노드에서 다른 모든 노드까지의 최단거리\n",
    "\n",
    "방문하지 않은 노드 중 가장 가까운 노드만 방문. current_node를 거쳐서 갈 때의 cost가 기존 cost보다 작은 경우 update. 한 번 선택된 노드는 최단거리가 감소하지 않음.\n",
    "\n",
    "$O(N\\log(N) + E\\log(N))$: 각 node를 heapq에 insert, 각 edge에 대해 heapq를 update"
   ]
  },
  {
   "cell_type": "code",
   "execution_count": 81,
   "id": "4a9f26ca",
   "metadata": {},
   "outputs": [
    {
     "name": "stdout",
     "output_type": "stream",
     "text": [
      "{'A': 0, 'B': 2, 'C': 3, 'D': 1, 'E': 2, 'F': 4}\n"
     ]
    }
   ],
   "source": [
    "import heapq # min heap with key-value (weight-node) pair input\n",
    "\n",
    "def dijkstra(graph, start):\n",
    "    distances = {node: float('inf') for node in graph}\n",
    "    distances[start] = 0\n",
    "\n",
    "    pq = [(0, start)]\n",
    "    heapq.heapify(pq) # unnecessary but for the sake of completeness\n",
    "\n",
    "    while pq:\n",
    "        distance_to_current_node, current_node = heapq.heappop(pq)\n",
    "\n",
    "        if distance_to_current_node > distances[current_node]:\n",
    "            continue\n",
    "            \n",
    "        for neighbor, weight in graph[current_node].items():\n",
    "            if distance_to_current_node + weight < distances[neighbor]:\n",
    "                distances[neighbor] = distance_to_current_node + weight\n",
    "                heapq.heappush(pq, (distances[neighbor], neighbor))\n",
    "\n",
    "    return distances\n",
    "\n",
    "graph = {\n",
    "    'A': {'B': 2, 'C': 5, 'D': 1},\n",
    "    'B': {'C': 3, 'D': 2},\n",
    "    'C': {'B': 3, 'F': 5},\n",
    "    'D': {'C': 3, 'E': 1},\n",
    "    'E': {'C': 1, 'F': 2},\n",
    "    'F': {}\n",
    "}\n",
    "\n",
    "start_node = 'A'\n",
    "shortest_paths = dijkstra(graph, start_node)\n",
    "print(shortest_paths)"
   ]
  },
  {
   "cell_type": "markdown",
   "id": "3da5e7d4",
   "metadata": {},
   "source": [
    "### Bellman-Ford: 음의 가중치를 가진 간선이 존재할 때\n",
    "\n",
    "다익스트라와의 차이점은 매 반복마다 모든 간선을 확인한다는 것. \n",
    "\n",
    "$O(NE)$"
   ]
  },
  {
   "cell_type": "code",
   "execution_count": 82,
   "id": "9ae01898",
   "metadata": {},
   "outputs": [
    {
     "name": "stdout",
     "output_type": "stream",
     "text": [
      "{'A': 0, 'B': -4, 'C': 5, 'D': -5, 'E': 1}\n"
     ]
    }
   ],
   "source": [
    "def bellman_ford(graph, start):\n",
    "    distances = {node: float('inf') for node in graph}\n",
    "    distances[start] = 0\n",
    "\n",
    "    for _ in range(len(graph) - 1): # for every nodes\n",
    "        for current_node in graph: # for ev\n",
    "            for neighbor, weight in graph[current_node].items(): # -ery edges\n",
    "\n",
    "                if distances[current_node] + weight < distances[neighbor]:\n",
    "                    distances[neighbor] = distances[current_node] + weight\n",
    "\n",
    "    # check for negative weight cycles\n",
    "    for current_node in graph:\n",
    "        for neighbor, weight in graph[current_node].items():\n",
    "            if distances[current_node] + weight < distances[neighbor]:\n",
    "                raise ValueError(\"Graph contains a negative-weight cycle\")\n",
    "\n",
    "    return distances\n",
    "\n",
    "graph = {\n",
    "    'A': {'B': -4, 'C': 5, 'D': 2, 'E': 3},\n",
    "    'B': {'D': -1},\n",
    "    'C': {'D': -7},\n",
    "    'D': {'E': 6},\n",
    "    'E': {'D': -4},\n",
    "}\n",
    "\n",
    "start_node = 'A'\n",
    "shortest_paths = bellman_ford(graph, start_node)\n",
    "print(shortest_paths)"
   ]
  },
  {
   "cell_type": "markdown",
   "id": "96d13d85",
   "metadata": {},
   "source": [
    "### Floyd-Warshall: 모든 노드에서 다른 모든 노드까지의 최단거리\n",
    "\n",
    "$O(N^3)$: N개의 노드에 대해 N*N 2차원 리스트 갱신"
   ]
  },
  {
   "cell_type": "code",
   "execution_count": 83,
   "id": "9f87d8cc",
   "metadata": {},
   "outputs": [],
   "source": [
    "def graph_to_distance_matrix(graph):\n",
    "    nodes = sorted(graph.keys())\n",
    "    n = len(nodes)\n",
    "    distance_matrix = [[float('inf')] * n for _ in range(n)]\n",
    "    \n",
    "    for i, node_i in enumerate(nodes):\n",
    "        for j, node_j in enumerate(nodes):\n",
    "            if i==j:\n",
    "                distance_matrix[i][j] = 0\n",
    "            elif node_j in graph[node_i]: # from node_i to node_j\n",
    "                distance_matrix[i][j] = graph[node_i][node_j] # from row to col\n",
    "                \n",
    "    return distance_matrix"
   ]
  },
  {
   "cell_type": "code",
   "execution_count": 84,
   "id": "f2ef4469",
   "metadata": {
    "scrolled": true
   },
   "outputs": [
    {
     "name": "stdout",
     "output_type": "stream",
     "text": [
      "[0, 4, 8, 6]\n",
      "[3, 0, 7, 9]\n",
      "[5, 9, 0, 4]\n",
      "[7, 11, 2, 0]\n"
     ]
    }
   ],
   "source": [
    "def floyd_warshall(distance_matrix):\n",
    "    n = len(distance_matrix)\n",
    "    \n",
    "    for i in range(n):\n",
    "        for a in range(n):\n",
    "            for b in range(n):\n",
    "                # (a->i->b) or (a->b)\n",
    "                if distance_matrix[a][i] + distance_matrix[i][b] < distance_matrix[a][b]:\n",
    "                    distance_matrix[a][b] = distance_matrix[a][i] + distance_matrix[i][b]\n",
    "    \n",
    "    for i in range(n):\n",
    "        if distance_matrix[i][i] < 0: \n",
    "            raise ValueError(\"Graph contains a negative-weight cycle\")\n",
    "            \n",
    "    return distance_matrix\n",
    "\n",
    "graph = {\n",
    "    'A': {'B': 4, 'D': 6},\n",
    "    'B': {'A': 3, 'C': 7},\n",
    "    'C': {'A': 5, 'D': 4},\n",
    "    'D': {'C': 2},\n",
    "}\n",
    "\n",
    "distance_matrix = graph_to_distance_matrix(graph)\n",
    "shortest_path_matrix = floyd_warshall(distance_matrix)\n",
    "for row in shortest_path_matrix:\n",
    "    print(row)"
   ]
  },
  {
   "cell_type": "markdown",
   "id": "e5e689f2",
   "metadata": {},
   "source": [
    "## Graph - Minimum Spanning Tree\n",
    "\n",
    "최소 연결 부분 그래프 (노드의 수가 n 일때 n-1개의 간선을 갖는 그래프) 중 간선 가중치의 합이 최소인 그래프"
   ]
  },
  {
   "cell_type": "markdown",
   "id": "e0597a65",
   "metadata": {},
   "source": [
    "### Prim: MST for dense graph\n",
    "\n",
    "인접 노드 중 최소 가중치로 연결된 노드 선택\n",
    "\n",
    "$O(N^2)$"
   ]
  },
  {
   "cell_type": "code",
   "execution_count": 85,
   "id": "e2c8c021",
   "metadata": {},
   "outputs": [],
   "source": [
    "from collections import defaultdict\n",
    "\n",
    "def directed_to_undirected(directed_graph):\n",
    "    undirected_graph = defaultdict(dict)\n",
    "\n",
    "    for node, neighbors in directed_graph.items():\n",
    "        for neighbor, weight in neighbors.items():\n",
    "            undirected_graph[node][neighbor] = weight\n",
    "            undirected_graph[neighbor][node] = weight\n",
    "\n",
    "    return dict(undirected_graph)"
   ]
  },
  {
   "cell_type": "code",
   "execution_count": 86,
   "id": "f6eac656",
   "metadata": {},
   "outputs": [
    {
     "name": "stdout",
     "output_type": "stream",
     "text": [
      "[(29, 'A', 'B'), (34, 'B', 'F'), (23, 'F', 'D'), (7, 'D', 'C'), (13, 'D', 'G'), (53, 'F', 'E')]\n"
     ]
    }
   ],
   "source": [
    "import heapq\n",
    "\n",
    "def prim(graph, start):\n",
    "    mst = []\n",
    "    visited = [start]\n",
    "\n",
    "    edges = [(weight, start, to) for to, weight in graph[start].items()]\n",
    "    heapq.heapify(edges) # to sort the edges\n",
    "\n",
    "    while edges:\n",
    "        weight, a, b = heapq.heappop(edges)\n",
    "\n",
    "        if b not in visited:\n",
    "            visited.append(b)\n",
    "            mst.append((weight, a, b))\n",
    "\n",
    "            for neighbor, weight in graph[b].items():\n",
    "                if neighbor not in visited:\n",
    "                    heapq.heappush(edges, (weight, b, neighbor))\n",
    "\n",
    "    return mst\n",
    "\n",
    "directed_graph = {\n",
    "    'A': {'B': 29, 'E': 75},\n",
    "    'B': {'C': 75, 'F': 34},\n",
    "    'C': {'D': 7},\n",
    "    'D': {'F': 23, 'G': 13},\n",
    "    'E': {'F': 53},\n",
    "    'F': {'G': 25},\n",
    "}\n",
    "\n",
    "start_node = 'A'\n",
    "undirected_graph = directed_to_undirected(directed_graph)\n",
    "mst = prim(undirected_graph, start_node)\n",
    "print(mst)"
   ]
  },
  {
   "cell_type": "markdown",
   "id": "0b5e2de4",
   "metadata": {},
   "source": [
    "### Kruskal: MST for sparse graph\n",
    "\n",
    "모든 가중치 정렬 후 낮은 순으로 추가하되 사이클을 형성하는 간선은 제외\n",
    "\n",
    "$O(E\\log E)$: 정렬에 걸리는 시간복잡도"
   ]
  },
  {
   "cell_type": "code",
   "execution_count": 87,
   "id": "66976bb1",
   "metadata": {},
   "outputs": [
    {
     "name": "stdout",
     "output_type": "stream",
     "text": [
      "[(7, 'C', 'D'), (13, 'D', 'G'), (23, 'D', 'F'), (29, 'A', 'B'), (34, 'B', 'F'), (53, 'E', 'F')]\n"
     ]
    }
   ],
   "source": [
    "def kruskal(graph):\n",
    "    \n",
    "    def find(parent, node): # find the root\n",
    "        if parent[node] != node:\n",
    "            parent[node] = find(parent, parent[node]) # path compression\n",
    "        return parent[node]\n",
    "\n",
    "    def union(parent, x, y):\n",
    "        root_x, root_y = find(parent, x), find(parent, y)\n",
    "\n",
    "        if root_x == root_y: # shares the root (x and y already in the same set)\n",
    "            return False\n",
    "\n",
    "        parent[root_y] = root_x # arbitrarily make one subtree of the other\n",
    "        return True\n",
    "\n",
    "    nodes = sorted(list(graph.keys()))\n",
    "    parent = {node: node for node in nodes} # key: node, value: parent of the node\n",
    "    \n",
    "    edges = [(weight, a, b) for a in graph for b, weight in graph[a].items()]\n",
    "    edges = sorted(edges)\n",
    "\n",
    "    mst = []\n",
    "    for weight, a, b in edges:\n",
    "        # if adding the edge to mst doesn't form a cycle\n",
    "        if union(parent, a, b):\n",
    "            mst.append((weight, a, b))\n",
    "    \n",
    "    return mst\n",
    "\n",
    "directed_graph = {\n",
    "    'A': {'B': 29, 'E': 75},\n",
    "    'B': {'C': 75, 'F': 34},\n",
    "    'C': {'D': 7},\n",
    "    'D': {'F': 23, 'G': 13},\n",
    "    'E': {'F': 53},\n",
    "    'F': {'G': 25},\n",
    "}\n",
    "\n",
    "undirected_graph = directed_to_undirected(directed_graph)\n",
    "mst = kruskal(undirected_graph)\n",
    "print(mst)"
   ]
  },
  {
   "cell_type": "markdown",
   "id": "596cc603",
   "metadata": {},
   "source": [
    "## Graph - Topological sort\n",
    "\n",
    "노드들을 출발->도착 방향에 맞게 정렬"
   ]
  },
  {
   "cell_type": "markdown",
   "id": "dd0c6949",
   "metadata": {},
   "source": [
    "### BFS based (Kahn's algorithm)\n",
    "\n",
    "$O(N+E)$"
   ]
  },
  {
   "cell_type": "code",
   "execution_count": 88,
   "id": "d42487dd",
   "metadata": {},
   "outputs": [
    {
     "name": "stdout",
     "output_type": "stream",
     "text": [
      "['A', 'B', 'E', 'C', 'F', 'D', 'G', 'H']\n"
     ]
    }
   ],
   "source": [
    "from collections import deque\n",
    "\n",
    "def bfs_topological_sort(graph):\n",
    "    in_degrees = {node: 0 for node in graph}\n",
    "    for node in graph:\n",
    "        for neighbor in graph[node]:\n",
    "            in_degrees[neighbor] += 1 # the number of edges entering the node\n",
    "            \n",
    "    q = deque(node for node in in_degrees if in_degrees[node] == 0)\n",
    "\n",
    "    sorted_nodes = []\n",
    "    while q:\n",
    "        current_node = q.popleft()\n",
    "        sorted_nodes.append(current_node)\n",
    "\n",
    "        for neighbor in graph[current_node]:\n",
    "            in_degrees[neighbor] -= 1\n",
    "            if in_degrees[neighbor] == 0: # at least one new node should have in_degree of 0\n",
    "                q.append(neighbor)\n",
    "\n",
    "    if len(sorted_nodes) != len(graph):\n",
    "        raise ValueError(\"The graph contains a cycle, and a topological sort is not possible.\")\n",
    "\n",
    "    return sorted_nodes\n",
    "\n",
    "graph = {\n",
    "    'A': ['B', 'E'],\n",
    "    'B': ['C', 'F'],\n",
    "    'C': ['D'],\n",
    "    'D': ['G'],\n",
    "    'E': ['F'],\n",
    "    'F': ['D'],\n",
    "    'G': ['H'],\n",
    "    'H': []\n",
    "}\n",
    "\n",
    "result = bfs_topological_sort(graph)\n",
    "print(result)"
   ]
  },
  {
   "cell_type": "markdown",
   "id": "fcea77fc",
   "metadata": {},
   "source": [
    "### DFS based\n",
    "\n",
    "$O(N+E)$"
   ]
  },
  {
   "cell_type": "code",
   "execution_count": 89,
   "id": "3e516ce4",
   "metadata": {
    "scrolled": true
   },
   "outputs": [
    {
     "name": "stdout",
     "output_type": "stream",
     "text": [
      "['A', 'E', 'B', 'F', 'C', 'D', 'G', 'H']\n"
     ]
    }
   ],
   "source": [
    "def dfs_topological_sort(graph):\n",
    "    \n",
    "    def dfs(current_node):\n",
    "        visited.append(current_node)\n",
    "        for neighbor in graph[current_node]:\n",
    "            if neighbor not in visited:\n",
    "                dfs(neighbor)\n",
    "        sorted_nodes.append(current_node)\n",
    "\n",
    "    visited = []\n",
    "    sorted_nodes = []\n",
    "\n",
    "    for current_node in graph:\n",
    "        if current_node not in visited:\n",
    "            dfs(current_node)\n",
    "\n",
    "    if len(sorted_nodes) != len(graph):\n",
    "        raise ValueError(\"The graph contains a cycle, and a topological sort is not possible.\")\n",
    "        \n",
    "    return sorted_nodes[::-1]\n",
    "\n",
    "graph = {\n",
    "    'A': ['B', 'E'],\n",
    "    'B': ['C', 'F'],\n",
    "    'C': ['D'],\n",
    "    'D': ['G'],\n",
    "    'E': ['F'],\n",
    "    'F': ['D'],\n",
    "    'G': ['H'],\n",
    "    'H': []\n",
    "}\n",
    "\n",
    "result = dfs_topological_sort(graph)\n",
    "print(result)"
   ]
  }
 ],
 "metadata": {
  "interpreter": {
   "hash": "11ff6bfcaecee1ee58efd5056b36e79a4e8f4f988a95af2d0be67cac6c4657fe"
  },
  "kernelspec": {
   "display_name": "Python 3",
   "language": "python",
   "name": "python3"
  },
  "language_info": {
   "codemirror_mode": {
    "name": "ipython",
    "version": 3
   },
   "file_extension": ".py",
   "mimetype": "text/x-python",
   "name": "python",
   "nbconvert_exporter": "python",
   "pygments_lexer": "ipython3",
   "version": "3.8.13"
  }
 },
 "nbformat": 4,
 "nbformat_minor": 5
}
